{
 "cells": [
  {
   "cell_type": "markdown",
   "metadata": {},
   "source": [
    "# Data Processing"
   ]
  },
  {
   "cell_type": "markdown",
   "metadata": {},
   "source": [
    "## Raw Data"
   ]
  },
  {
   "cell_type": "code",
   "execution_count": 21,
   "metadata": {},
   "outputs": [
    {
     "name": "stdout",
     "output_type": "stream",
     "text": [
      "Index(['score', 'selftext', 'subreddit', 'title', 'Label'], dtype='object')\n",
      "Original_Reddit_Data/processed/Labelled_Data/LD DA 1.csv\n",
      "Index(['score', 'selftext', 'subreddit', 'title', 'Label', 'CAT 1'], dtype='object')\n",
      "Original_Reddit_Data/processed/Labelled_Data/LD PF1.csv\n",
      "Index(['score', 'selftext', 'subreddit', 'title', 'Label', 'CAT 1'], dtype='object')\n",
      "Original_Reddit_Data/processed/Labelled_Data/LD EL1.csv\n",
      "Index(['score', 'selftext', 'subreddit', 'title', 'Label', 'CAT 1'], dtype='object')\n",
      "Original_Reddit_Data/processed/Labelled_Data/LD TS 1.csv\n"
     ]
    }
   ],
   "source": [
    "import pandas as pd\n",
    "import numpy as np\n",
    "file_name_ld=['LD DA 1', 'LD PF1', 'LD EL1','LD TS 1']\n",
    "\n",
    "path='Original_Reddit_Data/Labelled_Data/{file_name}.csv'\n",
    "save_path='Original_Reddit_Data/processed/Labelled_Data/{file_name}.csv'\n",
    "for i in range (4):\n",
    "    df=pd.read_csv(path.format(file_name=file_name_ld[i]))\n",
    "    print(df.columns)\n",
    "    df_new={\n",
    "        'subreddit':df['subreddit'],\n",
    "        'title':df['title'],\n",
    "        'Label':df['Label'],\n",
    "        'text':[str(df['title'][j])+' - '+ str(df['selftext'][j])for j in range(len(df['title']))]\n",
    "    }\n",
    "    df_new=pd.DataFrame(df_new)\n",
    "    print(save_path.format(file_name=file_name_ld[i]))\n",
    "    pd.DataFrame.to_csv(df_new,save_path.format(file_name=file_name_ld[i]),index=False)\n"
   ]
  },
  {
   "cell_type": "markdown",
   "metadata": {},
   "source": [
    "## Labelled Data"
   ]
  },
  {
   "cell_type": "code",
   "execution_count": 23,
   "metadata": {},
   "outputs": [
    {
     "name": "stdout",
     "output_type": "stream",
     "text": [
      "220\n",
      "220\n"
     ]
    }
   ],
   "source": [
    "import os\n",
    "\n",
    "\n",
    "path = []\n",
    "save_path=[]\n",
    "cnt=0\n",
    "n=0\n",
    "for root, dirs, files in os.walk('Original_Reddit_Data/raw_data'):\n",
    "\n",
    "    for file in files:\n",
    "        if (file=='.DS_Store'):\n",
    "            continue\n",
    "        path.append(os.path.join(root, file))\n",
    "        save_path.append(path[cnt][:20]+'/processed/raw_data/'+file)\n",
    "        cnt+=1\n",
    "print(len(save_path))    \n",
    "for i in range (len(path)):\n",
    "    df=pd.read_csv(path[i])\n",
    "    df_new={\n",
    "        #selftext,subreddit,title\n",
    "        'subreddit':df['subreddit'],\n",
    "        'title':df['title'],\n",
    "        'text':[str(df['title'][j])+' - '+ str(df['selftext'][j])for j in range(len(df['title']))]\n",
    "\n",
    "    }\n",
    "    df_new=pd.DataFrame(df_new)\n",
    "    pd.DataFrame.to_csv(df_new,save_path[i],index=False)\n",
    "    n+=1\n",
    "print(n)\n",
    "\n"
   ]
  },
  {
   "cell_type": "markdown",
   "metadata": {},
   "source": [
    "# Initial Procession & Tokenization"
   ]
  }
 ],
 "metadata": {
  "kernelspec": {
   "display_name": "base",
   "language": "python",
   "name": "python3"
  },
  "language_info": {
   "codemirror_mode": {
    "name": "ipython",
    "version": 3
   },
   "file_extension": ".py",
   "mimetype": "text/x-python",
   "name": "python",
   "nbconvert_exporter": "python",
   "pygments_lexer": "ipython3",
   "version": "3.12.4"
  }
 },
 "nbformat": 4,
 "nbformat_minor": 2
}
